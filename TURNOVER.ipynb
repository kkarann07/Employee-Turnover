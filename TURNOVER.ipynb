{
 "cells": [
  {
   "cell_type": "markdown",
   "metadata": {},
   "source": [
    "# OBJECTIVE\n",
    "## My goal is to create a model that can predict if a certain employee will leave the company or not and to know the reasons for their departure"
   ]
  },
  {
   "cell_type": "code",
   "execution_count": null,
   "metadata": {
    "collapsed": true
   },
   "outputs": [],
   "source": [
    "#Import Libraries\n",
    "import numpy as np \n",
    "import pandas as pd\n",
    "import matplotlib.pyplot as plt\n",
    "import matplotlib as matplot\n",
    "import seaborn as sns\n",
    "%matplotlib inline"
   ]
  },
  {
   "cell_type": "code",
   "execution_count": null,
   "metadata": {},
   "outputs": [],
   "source": [
    "#Import Dataset\n",
    "dataset = pd.read_csv('Downloads/HR.csv') \n",
    "X = dataset.iloc[:, [0,1,2,3,4,5,7,9]].values\n",
    "y = dataset.iloc[:, 6].values\n",
    "dataset.head()"
   ]
  },
  {
   "cell_type": "code",
   "execution_count": null,
   "metadata": {
    "collapsed": true
   },
   "outputs": [],
   "source": [
    "#Encoding Categorical Data(Salary)\n",
    "from sklearn.preprocessing import LabelEncoder\n",
    "labelencoder_X = LabelEncoder()\n",
    "X[:, 7] = labelencoder_X.fit_transform(X[:, 7])"
   ]
  },
  {
   "cell_type": "code",
   "execution_count": null,
   "metadata": {
    "collapsed": true
   },
   "outputs": [],
   "source": [
    "#Spliting Dataset\n",
    "from sklearn.model_selection import train_test_split\n",
    "X_train, X_test, y_train, y_test = train_test_split(X, y, test_size = 0.25, random_state = 0)"
   ]
  },
  {
   "cell_type": "code",
   "execution_count": null,
   "metadata": {},
   "outputs": [],
   "source": [
    "#Fitting Random Forest Classification\n",
    "from sklearn.ensemble import RandomForestClassifier\n",
    "classifier = RandomForestClassifier(n_estimators = 300, criterion = 'entropy', random_state = 0,oob_score=True)\n",
    "classifier.fit(X_train, y_train)\n",
    "print(classifier.oob_score_)"
   ]
  },
  {
   "cell_type": "code",
   "execution_count": null,
   "metadata": {},
   "outputs": [],
   "source": [
    "# Predicting the Test set results\n",
    "y_pred = classifier.predict(X_test)\n",
    "print(y_pred)"
   ]
  },
  {
   "cell_type": "code",
   "execution_count": null,
   "metadata": {},
   "outputs": [],
   "source": [
    "# Making the Confusion Matrix\n",
    "from sklearn.metrics import confusion_matrix\n",
    "cm = confusion_matrix(y_test, y_pred)\n",
    "print(\"Confusion Matrix:\\n\",cm)\n",
    "\n",
    "#Scoring Metrics\n",
    "import sklearn.metrics as metrics\n",
    "ac = metrics.accuracy_score(y_test, y_pred)\n",
    "print(\"\\nAccuracy:\",ac)\n",
    "re = metrics.recall_score(y_test, y_pred, average='weighted')\n",
    "print(\"\\nRecall:\",re)\n",
    "pr = metrics.precision_score(y_test, y_pred, average='weighted')\n",
    "print(\"\\nPrecision:\",pr)\n",
    "f1=metrics.f1_score(y_test, y_pred, average='weighted')\n",
    "print(\"\\nF1 Score:\",f1)"
   ]
  },
  {
   "cell_type": "code",
   "execution_count": null,
   "metadata": {},
   "outputs": [],
   "source": [
    "#Predictions\n",
    "a = float(input(\"Satisfaction_level:\"))\n",
    "b = float(input(\"Evaluation:\"))\n",
    "c = int(input(\"No_of_projects:\"))\n",
    "d = int(input(\"Average_monthly_hours:\"))\n",
    "e = int(input(\"TimeSpentInCompany:\"))\n",
    "f = int(input(\"WorkAccident:\"))\n",
    "g = int(input(\"Promotion:\"))\n",
    "h = int(input(\"Salary(High->0,Low->1,Medium->2):\"))\n",
    "    \n",
    "y1 = np.column_stack([[a],[b],[c],[d],[e],[f],[g],[h]])\n",
    "\n",
    "ypredself = classifier.predict(y1)\n",
    "print(ypredself)"
   ]
  },
  {
   "cell_type": "code",
   "execution_count": null,
   "metadata": {},
   "outputs": [],
   "source": [
    "#Correlation Matrix\n",
    "corr = dataset.corr()\n",
    "corr = (corr)\n",
    "ax = plt.axes()\n",
    "sns.heatmap(corr, xticklabels=corr.columns.values,yticklabels=corr.columns.values, ax=ax, cmap=\"YlGnBu\")\n",
    "ax.set_title('Heatmap of Correlation Matrix')\n",
    "corr"
   ]
  },
  {
   "cell_type": "code",
   "execution_count": null,
   "metadata": {},
   "outputs": [],
   "source": [
    "#Turnover vs Salary\n",
    "ax = plt.subplots(figsize=(8, 4))\n",
    "sns.countplot(x=\"salary\", hue='left', data=dataset).set_title('Employee Salary Turnover Distribution');"
   ]
  },
  {
   "cell_type": "code",
   "execution_count": null,
   "metadata": {},
   "outputs": [],
   "source": [
    "#Turnover vs Department\n",
    "ax = plt.subplots(figsize=(12, 4))\n",
    "sns.countplot(x=\"department\", hue='left', data=dataset).set_title('Employee Department Turnover Distribution');"
   ]
  },
  {
   "cell_type": "code",
   "execution_count": null,
   "metadata": {},
   "outputs": [],
   "source": [
    "#Turnover vs Time_Spent_In_Company\n",
    "ax = plt.subplots(figsize=(8, 4))\n",
    "sns.countplot(x=\"time_spend_company\", hue='left', data=dataset).set_title('Employee Time_Spent_In_Company Turnover Distribution');"
   ]
  },
  {
   "cell_type": "code",
   "execution_count": null,
   "metadata": {},
   "outputs": [],
   "source": [
    "#Turnover vs No_of_projects\n",
    "ax = plt.subplots(figsize=(8, 4))\n",
    "sns.countplot(x=\"number_project\", hue='left', data=dataset).set_title('Employee No_of_projects Turnover Distribution');"
   ]
  },
  {
   "cell_type": "code",
   "execution_count": null,
   "metadata": {},
   "outputs": [],
   "source": [
    "#Employee Evaluation Distribution - Turnover V.S. No Turnover\n",
    "fig = plt.figure(figsize=(12,5),)\n",
    "ax=sns.kdeplot(dataset.loc[(dataset['left'] == 0),'last_evaluation'] , color='b',shade=True,label='no turnover')\n",
    "ax=sns.kdeplot(dataset.loc[(dataset['left'] == 1),'last_evaluation'] , color='r',shade=True, label='turnover')\n",
    "plt.title('Employee Evaluation Distribution - Turnover V.S. No Turnover')"
   ]
  },
  {
   "cell_type": "code",
   "execution_count": null,
   "metadata": {},
   "outputs": [],
   "source": [
    "#Employee Satisfaction Distribution - Turnover V.S. No Turnover\n",
    "fig = plt.figure(figsize=(12,5),)\n",
    "ax=sns.kdeplot(dataset.loc[(dataset['left'] == 0),'satisfaction_level'] , color='b',shade=True,label='no turnover')\n",
    "ax=sns.kdeplot(dataset.loc[(dataset['left'] == 1),'satisfaction_level'] , color='r',shade=True, label='turnover')\n",
    "plt.title('Employee Satisfaction Distribution - Turnover V.S. No Turnover')"
   ]
  },
  {
   "cell_type": "code",
   "execution_count": null,
   "metadata": {},
   "outputs": [],
   "source": [
    "#Employee Avg_monthly_hours Distribution - Turnover V.S. No Turnover\n",
    "fig = plt.figure(figsize=(12,5),)\n",
    "ax=sns.kdeplot(dataset.loc[(dataset['left'] == 0),'average_montly_hours'] , color='b',shade=True,label='no turnover')\n",
    "ax=sns.kdeplot(dataset.loc[(dataset['left'] == 1),'average_montly_hours'] , color='r',shade=True, label='turnover')\n",
    "plt.title('Employee Avg Monyhly hours Distribution - Turnover V.S. No Turnover')"
   ]
  },
  {
   "cell_type": "code",
   "execution_count": null,
   "metadata": {},
   "outputs": [],
   "source": [
    "#Avg monthly hrs Vs Satisfaction\n",
    "sns.lmplot(x='satisfaction_level', y='average_montly_hours', data=dataset,fit_reg=False,hue='left')"
   ]
  },
  {
   "cell_type": "code",
   "execution_count": null,
   "metadata": {},
   "outputs": [],
   "source": [
    "#Evaluation Vs Avg monthly hours\n",
    "sns.lmplot(x='average_montly_hours', y='last_evaluation', data=dataset,fit_reg=False,hue='left')"
   ]
  },
  {
   "cell_type": "code",
   "execution_count": null,
   "metadata": {},
   "outputs": [],
   "source": [
    "#Evaluation Vs Satisfaction\n",
    "sns.lmplot(x='satisfaction_level', y='last_evaluation', data=dataset,fit_reg=False,hue='left')"
   ]
  },
  {
   "cell_type": "code",
   "execution_count": null,
   "metadata": {
    "collapsed": true
   },
   "outputs": [],
   "source": [
    "# CONCLUSION\n",
    "\n",
    "#Employees generally left when they are underworked (less than 150hr/month or 6hr/day)\n",
    "#Employees generally left when they are overworked (more than 250hr/month or 10hr/day)\n",
    "#Employees with either really high or low evaluations should be taken into consideration for high turnover rate\n",
    "#Employees with low to medium salaries are the bulk of employee turnover\n",
    "#Employees that had very less or very high project count was at risk of leaving the company\n",
    "#Employee satisfaction is the highest indicator for employee turnover\n",
    "#Employees with 4 and 5 years at a company are endangered of leaving"
   ]
  },
  {
   "cell_type": "code",
   "execution_count": null,
   "metadata": {
    "collapsed": true
   },
   "outputs": [],
   "source": []
  }
 ],
 "metadata": {
  "kernelspec": {
   "display_name": "Python 3",
   "language": "python",
   "name": "python3"
  },
  "language_info": {
   "codemirror_mode": {
    "name": "ipython",
    "version": 3
   },
   "file_extension": ".py",
   "mimetype": "text/x-python",
   "name": "python",
   "nbconvert_exporter": "python",
   "pygments_lexer": "ipython3",
   "version": "3.6.3"
  }
 },
 "nbformat": 4,
 "nbformat_minor": 2
}
